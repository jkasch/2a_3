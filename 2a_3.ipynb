{
 "cells": [
  {
   "cell_type": "code",
   "execution_count": 1,
   "id": "667542d1",
   "metadata": {},
   "outputs": [
    {
     "name": "stdout",
     "output_type": "stream",
     "text": [
      "['A', 'B', 'C', 'D', 'E', 'F']\n"
     ]
    }
   ],
   "source": [
    "from collections import deque\n",
    "\n",
    "def bfs(graph, start, goal=None):\n",
    "    visited = []\n",
    "    queue = deque([start])\n",
    "    while queue:\n",
    "        vertex = queue.popleft()\n",
    "        if vertex not in visited:\n",
    "            visited.append(vertex)\n",
    "            if vertex == goal:\n",
    "                break\n",
    "            for child in graph[vertex]:\n",
    "                if child not in visited:\n",
    "                    queue.append(child)\n",
    "    return visited\n",
    "tree = {\n",
    "    'A': ['B', 'C'],\n",
    "    'B': ['D', 'E'],\n",
    "    'C': ['F', 'H'],\n",
    "    'D': ['I', 'J'],\n",
    "    'E': ['G1', 'K'],\n",
    "    'F': ['L', 'M'],\n",
    "    'H': ['N', 'G2'],\n",
    "    'G1': [],\n",
    "    'K': [],\n",
    "    'I': [],\n",
    "    'J': [],\n",
    "    'L': [],\n",
    "    'M': [],\n",
    "    'N': [],\n",
    "    'G2': []\n",
    "}\n",
    "visited_nodes = bfs(tree, 'A', goal='F')\n",
    "print(visited_nodes)"
   ]
  },
  {
   "cell_type": "code",
   "execution_count": null,
   "id": "406694c5",
   "metadata": {},
   "outputs": [],
   "source": []
  }
 ],
 "metadata": {
  "kernelspec": {
   "display_name": "Python 3 (ipykernel)",
   "language": "python",
   "name": "python3"
  },
  "language_info": {
   "codemirror_mode": {
    "name": "ipython",
    "version": 3
   },
   "file_extension": ".py",
   "mimetype": "text/x-python",
   "name": "python",
   "nbconvert_exporter": "python",
   "pygments_lexer": "ipython3",
   "version": "3.11.3"
  }
 },
 "nbformat": 4,
 "nbformat_minor": 5
}
